{
 "cells": [
  {
   "cell_type": "markdown",
   "metadata": {},
   "source": [
    "# Projet d'ISN - Le Défi du Souffle - Accueil\n",
    "## Présentation\n",
    "Bienvenue sur la page d'accueil de mon dossier de projet d'ISN.\n",
    "Ce projet est en lien avec l'action anti-tabac du lycée Notre Dame du Mur - Le Porsmeur, réalisée le 29 avril 2019, qui consistait à faire pédaler les élèves sur des vélo ou les faire ramer sur des rameurs, le but étant de faire en une journée un Morlaix-Paris. Les terminales ISN se sont impliqués sur ce projet dans différents domaines : cartographie, mesure avec des capteurs... J'ai pour ma part travaillé sur un programme permettant de jouer des sons au fur et à mesure que les grandes villes étaient passées : je détaille dans ce dossier l'ensemble des solutions techniques que j'ai mis en place pour faire fonctionner ce programme.\n",
    "\n",
    "---\n",
    "\n",
    "## Bloc-notes\n",
    "* Présentation du Défi du Souffle : qu'est-ce que c'est, analyse du besoin... [Cliquez ici](presentation_besoin.ipynb)\n",
    "* Le son : comment jouer un son sur Jupyter ? [Cliquez ici](jeu_son.ipynb)\n",
    "* Les dictionnaires : comment associer des valeurs ? [Cliquez ici](dictionnaire_son.ipynb)\n",
    "* ThingSpeak : comment transmettre des informations entre différents objets ? [Cliquez ici](recup_donnees_thingspeak.ipynb)\n",
    "* JSON, CSV : comment stocker des données dans un fichier externe au code source ? [Cliquez ici](données.ipynb)\n",
    "\n",
    "\n",
    "*Un doute, un question sur l'architecture du dossier ? Consultez le fichier [README.md](README.md).*\n",
    "\n",
    "\n",
    "---\n",
    "\n",
    "## Éléments connexes\n",
    "* Le son (issu de recherches faites sur le son au second trimestre, ne fait pas partie du projet Défi du Souffle) : [Cliquez ici](https://github.com/Killian2001/sonISN/blob/master/Accueil.ipynb)\n",
    "\n",
    "---\n",
    "\n",
    "## Télécharger le dépôt sur votre espace Jupyter ECMorlaix\n",
    "Pour les utilisateurs de jupyterhub.ecmorlaix.bzh, pour télécharger le dépôt sur votre espace Jupyter, [cliquez ici](http://jupyterhub.ecmorlaix.bzh:8092/hub/user-redirect/git-pull?repo=https%3A%2F%2Fgithub.com%2FKillian2001%2FDicoSon&branch=master&subPath=index.ipynb&app=notebook)"
   ]
  },
  {
   "cell_type": "code",
   "execution_count": null,
   "metadata": {},
   "outputs": [],
   "source": []
  }
 ],
 "metadata": {
  "kernelspec": {
   "display_name": "Python 3",
   "language": "python",
   "name": "python3"
  },
  "language_info": {
   "codemirror_mode": {
    "name": "ipython",
    "version": 3
   },
   "file_extension": ".py",
   "mimetype": "text/x-python",
   "name": "python",
   "nbconvert_exporter": "python",
   "pygments_lexer": "ipython3",
   "version": "3.6.8"
  }
 },
 "nbformat": 4,
 "nbformat_minor": 2
}
