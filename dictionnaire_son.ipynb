{
 "cells": [
  {
   "cell_type": "markdown",
   "metadata": {},
   "source": [
    "# Dictionnaire de son\n",
    "## Analyse du besoin\n",
    "Dans le cadre du projet de prévention anti-tabac du lycée, un système de vélo d'appartement sera installé dans l'atrium ; le but sera de pédaler le plus possible, afin de pouvoir fournir l'énergie nécessaire pour aller du lycée au Champs-Elysée. La distance parcourue ainsi que la géolocalisation du vélo sur la route menant jusqu'à Paris sera indiquée sur une carte. Plusieurs grandes villes seront traversées : on propose de jouer un son différent pour chaque grande ville traversée.\n",
    "## Fonctionnement\n",
    "Lors de la traversée de la ville, le joueur aura une parcouru une certaine distance, le dépassement de cette distance permettera de savoir si la ville a été dépassée, et donc il faut jouer le son. Il faudra donc trouver un moyen d'associer cette information au son à jouer."
   ]
  },
  {
   "cell_type": "markdown",
   "metadata": {},
   "source": [
    "## Le type dictionnaire (`dict`)\n",
    "Le type permettant l'association d'une chaîne de caractère est d'une valeur est le type dictionnaire (`dict`).\n",
    "Un dictionnaire permet de retrouver une valeur avec une clé ayant une valeur unique.\n",
    "### Création d'un dictionnaire.\n",
    "Un dictionnaire se crée comme ceci :"
   ]
  },
  {
   "cell_type": "code",
   "execution_count": 6,
   "metadata": {},
   "outputs": [],
   "source": [
    "dico = {} # Création du dictionnaire dico"
   ]
  },
  {
   "cell_type": "markdown",
   "metadata": {},
   "source": [
    "Pour ajouter des valeurs à un dictionnaire, il faut préciser en index du dictionnaire, entre crochets `[]` la chaîne de caractère servant de clé, puis lui associer une valeur :"
   ]
  },
  {
   "cell_type": "code",
   "execution_count": 7,
   "metadata": {},
   "outputs": [],
   "source": [
    "dico['valeur1'] = 10 # On associe à la clé 'valeur1' la valeur 10.\n",
    "dico[3.14] = 'test' # On associe à la clé 'valeur2' la valeur 'test'."
   ]
  },
  {
   "cell_type": "markdown",
   "metadata": {},
   "source": [
    "On obtient donc :"
   ]
  },
  {
   "cell_type": "code",
   "execution_count": 8,
   "metadata": {},
   "outputs": [
    {
     "data": {
      "text/plain": [
       "{'valeur1': 10, 3.14: 'test'}"
      ]
     },
     "execution_count": 8,
     "metadata": {},
     "output_type": "execute_result"
    }
   ],
   "source": [
    "dico"
   ]
  },
  {
   "cell_type": "markdown",
   "metadata": {},
   "source": [
    "On remarquera qu'un dictionnaire peut contenir des valeurs de types différents, associées à des clé pouvant elles ausi être de type différent : ici un type `int` est stocké avec un type `str`, associés respectivement à des clés de type `str` et `float`."
   ]
  },
  {
   "cell_type": "markdown",
   "metadata": {},
   "source": [
    "### Récupérer une valeur dans un dictionnaire"
   ]
  },
  {
   "cell_type": "markdown",
   "metadata": {},
   "source": [
    "Pour récupérer une valeur associée à une clé, il suffit juste de préciser la clé en index du dictionnaire, entre crochets `[]` :"
   ]
  },
  {
   "cell_type": "code",
   "execution_count": 11,
   "metadata": {},
   "outputs": [
    {
     "name": "stdout",
     "output_type": "stream",
     "text": [
      "Valeur de clé 'valeur1' :  10\n",
      "Valeur de clé 10.5 :  test\n"
     ]
    }
   ],
   "source": [
    "print(\"Valeur de clé 'valeur1' : \", dico['valeur1'])\n",
    "print('Valeur de clé 10.5 : ', dico[3.14])"
   ]
  },
  {
   "cell_type": "markdown",
   "metadata": {},
   "source": [
    "### Clé unique du dictionnaire\n",
    "Chaque clé du dictionnaire est unique, définir une valeur sur une clé déjà existante, c'est remplacer la valeur précédente associée à la clé. Ainsi :"
   ]
  },
  {
   "cell_type": "code",
   "execution_count": 28,
   "metadata": {},
   "outputs": [
    {
     "name": "stdout",
     "output_type": "stream",
     "text": [
      "Valeur 3.14 :  test\n",
      "Valeur 3.14 :  14\n"
     ]
    }
   ],
   "source": [
    "print('Valeur 3.14 : ', dico[3.14])\n",
    "dico[3.14] = 14\n",
    "print('Valeur 3.14 : ', dico[3.14])"
   ]
  },
  {
   "cell_type": "markdown",
   "metadata": {},
   "source": [
    "La valeur a donc été remplacée. Il est cependant important de noter que plusieurs valeurs de clés différentes peuvent être égales."
   ]
  },
  {
   "cell_type": "markdown",
   "metadata": {},
   "source": [
    "### Cas d'une valeur inexistante\n",
    "Tenter de récupérer une valeur avec une clé inéxistante provoquera la levée d'une `KeyError` :"
   ]
  },
  {
   "cell_type": "code",
   "execution_count": 12,
   "metadata": {},
   "outputs": [
    {
     "ename": "KeyError",
     "evalue": "'inexistant'",
     "output_type": "error",
     "traceback": [
      "\u001b[0;31m---------------------------------------------------------------------------\u001b[0m",
      "\u001b[0;31mKeyError\u001b[0m                                  Traceback (most recent call last)",
      "\u001b[0;32m<ipython-input-12-156737f44ec6>\u001b[0m in \u001b[0;36m<module>\u001b[0;34m\u001b[0m\n\u001b[0;32m----> 1\u001b[0;31m \u001b[0mdico\u001b[0m\u001b[0;34m[\u001b[0m\u001b[0;34m'inexistant'\u001b[0m\u001b[0;34m]\u001b[0m \u001b[0;31m# Cette clé n'a pas été entrée precédemment.\u001b[0m\u001b[0;34m\u001b[0m\u001b[0m\n\u001b[0m",
      "\u001b[0;31mKeyError\u001b[0m: 'inexistant'"
     ]
    }
   ],
   "source": [
    "dico['inexistant'] # Cette clé n'a pas été entrée precédemment."
   ]
  },
  {
   "cell_type": "markdown",
   "metadata": {},
   "source": [
    "### Suppression d'un élément d'un dictionnire.\n",
    "Pour supprimer un élément d'un dictionnaire, il faut utiliser le mot clé `del`, suivi du dictionnaire avec la clé précisée en index :"
   ]
  },
  {
   "cell_type": "code",
   "execution_count": 22,
   "metadata": {},
   "outputs": [],
   "source": [
    "# Suppression de la valeur de clé 'valeur1' du dictionnaire.\n",
    "del dico['valeur1']"
   ]
  },
  {
   "cell_type": "markdown",
   "metadata": {},
   "source": [
    "On obtient :"
   ]
  },
  {
   "cell_type": "code",
   "execution_count": 23,
   "metadata": {},
   "outputs": [
    {
     "data": {
      "text/plain": [
       "{3.14: 'test'}"
      ]
     },
     "execution_count": 23,
     "metadata": {},
     "output_type": "execute_result"
    }
   ],
   "source": [
    "dico"
   ]
  },
  {
   "cell_type": "markdown",
   "metadata": {},
   "source": [
    "### Structure du dictionnaire\n",
    "Le dictionnaire associe à chacune de ses valeurs une clé, il n'y a par conséquent pas d'ordre défini pour les données stockées à l'intérieur. On peut le vérifier en ajoutant des valeurs consécutives à une liste (type `list`) et un dictionnaire, et en supprimant dans les deux cas un élément:"
   ]
  },
  {
   "cell_type": "code",
   "execution_count": 25,
   "metadata": {},
   "outputs": [
    {
     "ename": "KeyError",
     "evalue": "2",
     "output_type": "error",
     "traceback": [
      "\u001b[0;31m---------------------------------------------------------------------------\u001b[0m",
      "\u001b[0;31mKeyError\u001b[0m                                  Traceback (most recent call last)",
      "\u001b[0;32m<ipython-input-25-c40da2ce9c63>\u001b[0m in \u001b[0;36m<module>\u001b[0;34m\u001b[0m\n\u001b[1;32m      8\u001b[0m \u001b[0ml\u001b[0m\u001b[0;34m.\u001b[0m\u001b[0mremove\u001b[0m\u001b[0;34m(\u001b[0m\u001b[0;36m2\u001b[0m\u001b[0;34m)\u001b[0m\u001b[0;34m\u001b[0m\u001b[0m\n\u001b[1;32m      9\u001b[0m \u001b[0;32mdel\u001b[0m \u001b[0md\u001b[0m\u001b[0;34m[\u001b[0m\u001b[0;36m2\u001b[0m\u001b[0;34m]\u001b[0m\u001b[0;34m\u001b[0m\u001b[0m\n\u001b[0;32m---> 10\u001b[0;31m \u001b[0mprint\u001b[0m\u001b[0;34m(\u001b[0m\u001b[0ml\u001b[0m\u001b[0;34m[\u001b[0m\u001b[0;36m2\u001b[0m\u001b[0;34m]\u001b[0m\u001b[0;34m,\u001b[0m \u001b[0md\u001b[0m\u001b[0;34m[\u001b[0m\u001b[0;36m2\u001b[0m\u001b[0;34m]\u001b[0m\u001b[0;34m)\u001b[0m\u001b[0;34m\u001b[0m\u001b[0m\n\u001b[0m",
      "\u001b[0;31mKeyError\u001b[0m: 2"
     ]
    }
   ],
   "source": [
    "# Ajout des 10 premiers entiers naturels à une liste l et un dictionnaire d.\n",
    "l = [] # Liste\n",
    "d = {} # Dictionnaire\n",
    "for n in range(0, 10):\n",
    "    l.append(n)\n",
    "    d[n] = n\n",
    "    \n",
    "l.remove(2)\n",
    "del d[2]\n",
    "print(l[2], d[2])"
   ]
  },
  {
   "cell_type": "markdown",
   "metadata": {},
   "source": [
    "Dans le premier cas, la suppression de l'élément de la liste a décalé le contenu, alors que dans le dictionnaire, la valeur reste vide, provoque une `KeyError` : comparé à un type comme le type `list`, le dictionnaire n'a donc pas vraiment de structure définie."
   ]
  },
  {
   "cell_type": "markdown",
   "metadata": {},
   "source": [
    "### Définition d'un dictionnaire pré-rempli\n",
    "Il est possible de définir directement le contenu du dictionnaire : pour cela, on suit la syntaxe `{clé1: valeur1, clé2: valeur2, ... }` comme ceci : "
   ]
  },
  {
   "cell_type": "code",
   "execution_count": 27,
   "metadata": {},
   "outputs": [
    {
     "data": {
      "text/plain": [
       "{'valeur1': 10, 3.14: 'test'}"
      ]
     },
     "execution_count": 27,
     "metadata": {},
     "output_type": "execute_result"
    }
   ],
   "source": [
    "# Définition du dictionnaire vu au début du notebook.\n",
    "dico = {'valeur1': 10, 3.14: 'test'}"
   ]
  },
  {
   "cell_type": "markdown",
   "metadata": {},
   "source": [
    "## Application à la lecture des sons\n",
    "Les sons seront joués au dépassement des grandes situées sur la route : la distance parcourue sera donnée, on pourra donc facilement savoir si on a dépassé une ville : si par exemple une ville se trouve à une distance $d_{ville}$, la distance parcourue $d$ étant croissante au cours du temps, on pourra jouer le son quand $d = d_{ville}$. La variation de la distance pouvant être nulle, il faudra penser à ne jouer qu'une fois le son.\n",
    "\n",
    "On utilisera des sons stockés en local sur la machine qui jouera les son, si possible en format WAV. On pourra les stocker en local sur la machine."
   ]
  },
  {
   "cell_type": "code",
   "execution_count": null,
   "metadata": {},
   "outputs": [],
   "source": []
  }
 ],
 "metadata": {
  "kernelspec": {
   "display_name": "Python 3",
   "language": "python",
   "name": "python3"
  },
  "language_info": {
   "codemirror_mode": {
    "name": "ipython",
    "version": 3
   },
   "file_extension": ".py",
   "mimetype": "text/x-python",
   "name": "python",
   "nbconvert_exporter": "python",
   "pygments_lexer": "ipython3",
   "version": "3.6.5"
  }
 },
 "nbformat": 4,
 "nbformat_minor": 2
}
