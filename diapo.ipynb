{
 "cells": [
  {
   "cell_type": "markdown",
   "metadata": {
    "slideshow": {
     "slide_type": "slide"
    }
   },
   "source": [
    "# Présentation de projet d'ISN - &laquo;Le défi du souffle&raquo;"
   ]
  },
  {
   "cell_type": "markdown",
   "metadata": {
    "slideshow": {
     "slide_type": "slide"
    }
   },
   "source": [
    "## Sommaire\n",
    "0. Introduction - Présentation du projet.\n",
    "1. Le son numérique : comment lire un son numérique ? \n",
    "2. Les dictionnaires, fichiers : comment stocker et organiser des informations ? \n",
    "3. Comment récupérer les données du capteur ?"
   ]
  },
  {
   "cell_type": "markdown",
   "metadata": {
    "slideshow": {
     "slide_type": "slide"
    }
   },
   "source": [
    "## Introduction - Présentation du projet"
   ]
  },
  {
   "cell_type": "markdown",
   "metadata": {
    "slideshow": {
     "slide_type": "subslide"
    }
   },
   "source": [
    "<center><strong><em>Le défi du souffle : pédaler (ou ramer) jusqu'à Paris en une journée avec des appareils de sport.</em></strong></center>\n",
    "\n",
    "**Objectif du projet : proposer un ensemble de solutions permettant d'agrémenter le défi du souffle, à savoir :**\n",
    "* Mesure de la distance parcourue avec des capteurs\n",
    "* Communication entre les capteurs, récupération des données capteur\n",
    "* Localisation sur une carte\n",
    "* Incrustation sur fond vert des personnes qui pédalent (au niveau de l'arrivée à Paris)\n",
    "* **Jeu d'un son au passage de chaque ville.**"
   ]
  },
  {
   "cell_type": "markdown",
   "metadata": {
    "slideshow": {
     "slide_type": "subslide"
    }
   },
   "source": [
    "**Jouer un son au passage de chaque ville**\n",
    "\n",
    "Lorsque l'on arrivera dans une ville, un son devra être joué, indiquant ainsi que l'on a passé la ville en question.\n",
    "Le programme devra fonctionner sur un ordinateur, connecté à des enceintes.\n",
    "Il faudra donc, pour faire fonctionner ce programme :\n",
    "* Récupérer les données de distance des capteurs.\n",
    "* Trouver un moyen de lier, dans le programme, distance récupérée et sons.\n",
    "* Jouer le son correspondant."
   ]
  },
  {
   "cell_type": "markdown",
   "metadata": {
    "slideshow": {
     "slide_type": "slide"
    }
   },
   "source": [
    "## 1. Le son numérique : comment lire un son numérique ? \n",
    "Lire un son avec PyGame :\n",
    "````python\n",
    "import pygame # Importation Pygame\n",
    "\n",
    "pygame.mixer.init() # Démarrage de la partie sonore de PyGame\n",
    "\n",
    "pygame.mixer.Sound(FILE_NAME).play() # On lance la lecture.\n",
    "while pygame.mixer.get_busy(): # Boucle de maintien de l'application, on laisse active l'application tant que le lecteur sonore est occupé.\n",
    "    pass\n",
    "````"
   ]
  },
  {
   "cell_type": "markdown",
   "metadata": {
    "slideshow": {
     "slide_type": "slide"
    }
   },
   "source": [
    "## 2. Les dictionnaires, fichiers : comment stocker et organiser des informations ? \n",
    "Dans le programme du projet, on va récupérer la distance parcourue en mètre et l'utilser pour jouer des sons à chaque passage de ville : comment associer distance et son ?\n"
   ]
  },
  {
   "cell_type": "markdown",
   "metadata": {
    "slideshow": {
     "slide_type": "subslide"
    }
   },
   "source": [
    "### Les dictionnaires\n",
    "Les dictionnaires sont des objets itérables, associant des valeurs à des clés."
   ]
  },
  {
   "cell_type": "code",
   "execution_count": 1,
   "metadata": {
    "slideshow": {
     "slide_type": "subslide"
    }
   },
   "outputs": [
    {
     "name": "stdout",
     "output_type": "stream",
     "text": [
      "Dictionnaire initial : {'valeur1': 10, 3.14: 'test'}\n",
      "10\n",
      "test\n",
      "Dictionnaire après suppression : {'valeur1': 10}\n"
     ]
    }
   ],
   "source": [
    "dico = {'valeur1': 10, 3.14: 'test'} # Déclaration du dictionnaire\n",
    "\n",
    "print('Dictionnaire initial :', dico) # Affichage du dictionnaire\n",
    "\n",
    "# Affichage des valeurs\n",
    "print(dico['valeur1'])\n",
    "print(dico[3.14])\n",
    "\n",
    "del dico[3.14]; # Suppression de la valeur à la clé 3.14\n",
    "print('Dictionnaire après suppression :', dico) # Affcihage après suppression"
   ]
  },
  {
   "cell_type": "markdown",
   "metadata": {
    "slideshow": {
     "slide_type": "subslide"
    }
   },
   "source": [
    "On utilisera le dictionnaire suivant pour le projet :"
   ]
  },
  {
   "cell_type": "code",
   "execution_count": 2,
   "metadata": {},
   "outputs": [],
   "source": [
    "CITIES = {\n",
    "    59500: 'sounds/guingamp.wav',\n",
    "    92400: 'sounds/saintBrieuc.wav',\n",
    "    213000: 'sounds/rennes.wav'\n",
    "    # etc...\n",
    "}"
   ]
  },
  {
   "cell_type": "markdown",
   "metadata": {
    "slideshow": {
     "slide_type": "subslide"
    }
   },
   "source": [
    "On récupère la distance (ici on l'entre), et on parcourt le dictionnaire pour trouver le son correspondant :"
   ]
  },
  {
   "cell_type": "code",
   "execution_count": 3,
   "metadata": {},
   "outputs": [
    {
     "name": "stdout",
     "output_type": "stream",
     "text": [
      "Entrez une distance : 59500\n",
      "Son joué : sounds/guingamp.wav\n"
     ]
    }
   ],
   "source": [
    "dist = float(input('Entrez une distance : ')) # On entre la distance.\n",
    "\n",
    "if dist in CITIES.keys(): # Vérification de l'existence de la distance parmi les clés.\n",
    "    print('Son joué :', CITIES[dist]) # On pourra mettre ici la fonction de jeu du son.\n",
    "    del CITIES[dist] # Suppression du son du dictionnaire pour éviter qu'il soit joué deux fois."
   ]
  },
  {
   "cell_type": "markdown",
   "metadata": {
    "slideshow": {
     "slide_type": "subslide"
    }
   },
   "source": [
    "### Stocker les informations dans un fichier\n",
    "On veut modifier les kilométrages des villes dans le dictionnaire : il est assez inconvenant d'effectuer, pour un utilisateur, la modification des villes dans le code source. On va étudier deux solutions pour stocker les données dans un fichier externe. Ces solutions sont :\n",
    "* Le **JSON** (JavaScript Object Notation), qui permet de définir des données grâce à la notation objet du langage Javascript.\n",
    "* Le **CSV** (Comma Separated Values), qui est un format de définition des données que l'on peut utiliser avec un tableur."
   ]
  },
  {
   "cell_type": "markdown",
   "metadata": {
    "slideshow": {
     "slide_type": "subslide"
    }
   },
   "source": [
    "#### Préalable : lecture d'un fichier en Python"
   ]
  },
  {
   "cell_type": "code",
   "execution_count": 11,
   "metadata": {},
   "outputs": [
    {
     "name": "stdout",
     "output_type": "stream",
     "text": [
      "Contenu du fichier : Hello World !\n"
     ]
    }
   ],
   "source": [
    "with open('files/text.txt') as file: # Ouverture et gestion sécurisée du fichier.\n",
    "    text = file.read() # Lecture du fichier.\n",
    "    print('Contenu du fichier :', text) # Affichage du contenu du fichier.\n",
    "    file.close() # Fermeture du fichier."
   ]
  },
  {
   "cell_type": "markdown",
   "metadata": {
    "slideshow": {
     "slide_type": "subslide"
    }
   },
   "source": [
    "#### Première solution : le JSON\n",
    "Dictionnaire Python :"
   ]
  },
  {
   "cell_type": "code",
   "execution_count": 9,
   "metadata": {},
   "outputs": [],
   "source": [
    "CITIES = {\n",
    "    59500: 'sounds/guingamp.wav',\n",
    "    92400: 'sounds/saintBrieuc.wav',\n",
    "    213000: 'sounds/rennes.wav'\n",
    "    # etc...\n",
    "}"
   ]
  },
  {
   "cell_type": "markdown",
   "metadata": {},
   "source": [
    "Notation JSON :"
   ]
  },
  {
   "cell_type": "raw",
   "metadata": {},
   "source": [
    "{\n",
    "    \"59500\": \"sounds/guingamp.wav\",\n",
    "    \"92400\": \"sounds/saintBrieuc.wav\",\n",
    "    \"213000\": \"sounds/rennes.wav\"\n",
    "}"
   ]
  },
  {
   "cell_type": "markdown",
   "metadata": {
    "slideshow": {
     "slide_type": "subslide"
    }
   },
   "source": [
    "Lecture JSON :"
   ]
  },
  {
   "cell_type": "code",
   "execution_count": 15,
   "metadata": {},
   "outputs": [
    {
     "name": "stdout",
     "output_type": "stream",
     "text": [
      "{'59500': 'sounds/guingamp.wav', '92400': 'sounds/saintBrieuc.wav', '213000': 'sounds/rennes.wav'}\n"
     ]
    }
   ],
   "source": [
    "import json # Module de lecture JSON.\n",
    "\n",
    "# Lecture fichier\n",
    "jsonData = None # Variable qui contiendra les données du fichier\n",
    "with open('files/dict.json') as file:\n",
    "    jsonData = json.loads(file.read())\n",
    "    file.close()\n",
    "print(jsonData)"
   ]
  },
  {
   "cell_type": "markdown",
   "metadata": {},
   "source": [
    "Conversion en dictionnaire valide :"
   ]
  },
  {
   "cell_type": "code",
   "execution_count": 16,
   "metadata": {},
   "outputs": [
    {
     "name": "stdout",
     "output_type": "stream",
     "text": [
      "{}\n",
      "{59500.0: 'sounds/guingamp.wav', 92400.0: 'sounds/saintBrieuc.wav', 213000.0: 'sounds/rennes.wav'}\n"
     ]
    }
   ],
   "source": [
    "CITIES = {}\n",
    "print(CITIES)\n",
    "\n",
    "for k in jsonData.keys(): # On parcourt une à une les clés du dictionnaire jsonData.\n",
    "    CITIES[float(k)] = jsonData[k] # On convertit la clé en float pour le dictionnaire CITIES, et on attribue la valeur de jsonData correspondante.\n",
    "\n",
    "print(CITIES)"
   ]
  },
  {
   "cell_type": "markdown",
   "metadata": {
    "slideshow": {
     "slide_type": "subslide"
    }
   },
   "source": [
    "#### Deuxième solution : le CSV"
   ]
  },
  {
   "cell_type": "markdown",
   "metadata": {},
   "source": [
    "![Options d'exportations CSV sur différents tableurs](img/tableurs_csv.png)\n",
    "<center>Options d'exportations CSV sur différents tableurs</center>"
   ]
  },
  {
   "cell_type": "markdown",
   "metadata": {
    "slideshow": {
     "slide_type": "subslide"
    }
   },
   "source": [
    "En Python :"
   ]
  },
  {
   "cell_type": "code",
   "execution_count": 20,
   "metadata": {},
   "outputs": [],
   "source": [
    "CITIES = {\n",
    "    59500: 'sounds/guingamp.wav',\n",
    "    92400: 'sounds/saintBrieuc.wav',\n",
    "    213000: 'sounds/rennes.wav'\n",
    "}"
   ]
  },
  {
   "cell_type": "markdown",
   "metadata": {},
   "source": [
    "En CSV (anglais) :"
   ]
  },
  {
   "cell_type": "raw",
   "metadata": {},
   "source": [
    "59500.0,sounds/guingamp.wav\n",
    "92400.0,sounds/saintBrieuc.wav\n",
    "213000.0,sounds/rennes.wav"
   ]
  },
  {
   "cell_type": "markdown",
   "metadata": {},
   "source": [
    "En CSV (français) :"
   ]
  },
  {
   "cell_type": "raw",
   "metadata": {},
   "source": [
    "59500,0;sounds/guingamp.wav\n",
    "92400,0;sounds/saintBrieuc.wav\n",
    "213000,0;sounds/rennes.wav"
   ]
  },
  {
   "cell_type": "markdown",
   "metadata": {
    "slideshow": {
     "slide_type": "subslide"
    }
   },
   "source": [
    "Lecture CSV en Python :"
   ]
  },
  {
   "cell_type": "code",
   "execution_count": 19,
   "metadata": {},
   "outputs": [],
   "source": [
    "import csv # Module de lecture CSV.\n",
    "\n",
    "# Définition des séparateurs\n",
    "VAL_SEPARATOR = ';' # Séparateur entre les valeurs.\n",
    "IS_QUOTING_ENABLED = False # Y a-t-il des chaînes de caractères ?\n",
    "STR_SEPARATOR = '' # Séparateur de chaîne de caractère.\n",
    "\n",
    "csvData = None\n",
    "\n",
    "# Lecture fichier\n",
    "with open('files/dico.csv') as csvFile:\n",
    "    csvRawData = csv.reader(\n",
    "        csvFile, \n",
    "        delimiter=VAL_SEPARATOR, \n",
    "        quotechar=STR_SEPARATOR if IS_QUOTING_ENABLED else None # Modification du caractère de séparation des chaînes si il y a des chaînes.\n",
    "    ) # Lecture données CSV\n",
    "    csvData = list(csvRawData) # Conversion en liste\n",
    "    csvFile.close() # Fermeture du fichier."
   ]
  },
  {
   "cell_type": "markdown",
   "metadata": {
    "slideshow": {
     "slide_type": "subslide"
    }
   },
   "source": [
    "Conversion en dictionnaire :"
   ]
  },
  {
   "cell_type": "code",
   "execution_count": 21,
   "metadata": {},
   "outputs": [
    {
     "name": "stdout",
     "output_type": "stream",
     "text": [
      "{}\n",
      "{59500.0: 'sounds/guingamp.wav', 92400.0: 'sounds/saintBrieuc.wav', 213000.0: 'sounds/rennes.wav'}\n"
     ]
    }
   ],
   "source": [
    "CITIES = {}\n",
    "print(CITIES)\n",
    "\n",
    "# Suppression des virgules.\n",
    "for i in csvData: # On parcourt les éléments de csvData\n",
    "    i[0] = i[0].replace(',', '.') # On remplace les virgules par des points.\n",
    "\n",
    "# Création dictionnaire\n",
    "for c in csvData:\n",
    "    CITIES[float(c[0])] = c[1] # Même procédure, mais on convertit en float c[0].\n",
    "\n",
    "print(CITIES)"
   ]
  },
  {
   "cell_type": "markdown",
   "metadata": {
    "slideshow": {
     "slide_type": "slide"
    }
   },
   "source": [
    "## 3. Comment récupérer les données du capteur ?\n",
    "![Interface ThingSpeak](img/datatest.PNG)\n",
    "<center>Interface ThingSpeak</center>"
   ]
  },
  {
   "cell_type": "markdown",
   "metadata": {},
   "source": [
    "Lecture de données depuis ThingSpeak :"
   ]
  },
  {
   "cell_type": "code",
   "execution_count": 23,
   "metadata": {},
   "outputs": [
    {
     "name": "stdout",
     "output_type": "stream",
     "text": [
      "010\n"
     ]
    }
   ],
   "source": [
    "import urllib\n",
    "import json\n",
    "\n",
    "# Récupération des données de distance.\n",
    "tsField = urllib.request.urlopen('https://api.thingspeak.com/channels/768391/fields/1.json?api_key=ADAXKK2DQ0I5T9O4&results=1')   # Requête au serveur.\n",
    "tsRawData = tsField.read()  # Lecture données binaires.\n",
    "tsTextData = tsRawData.decode('utf-8')  # Décodage données binaires vers UTF-8.\n",
    "tsPythonData = json.loads(tsTextData)\n",
    "\n",
    "# Valeur distance.\n",
    "dist = tsPythonData['feeds'][0]['field1']\n",
    "\n",
    "print(dist)"
   ]
  }
 ],
 "metadata": {
  "celltoolbar": "Diaporama",
  "kernelspec": {
   "display_name": "Python 3",
   "language": "python",
   "name": "python3"
  },
  "language_info": {
   "codemirror_mode": {
    "name": "ipython",
    "version": 3
   },
   "file_extension": ".py",
   "mimetype": "text/x-python",
   "name": "python",
   "nbconvert_exporter": "python",
   "pygments_lexer": "ipython3",
   "version": "3.6.8"
  }
 },
 "nbformat": 4,
 "nbformat_minor": 2
}
