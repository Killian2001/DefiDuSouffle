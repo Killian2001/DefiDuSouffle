{
 "cells": [
  {
   "cell_type": "markdown",
   "metadata": {},
   "source": [
    "# dataSender.py"
   ]
  },
  {
   "cell_type": "code",
   "execution_count": null,
   "metadata": {
    "scrolled": true
   },
   "outputs": [],
   "source": [
    "\"\"\"Programme d'envoi automatique de données sur le channel ThingSpeak.\"\"\"\n",
    "\n",
    "# ---- IMPORTS DE MODULES ----\n",
    "import urllib           # Requêtes URL\n",
    "from time import sleep  # Fonction de mise en pause du programme.\n",
    "\n",
    "# ---- CONFIG THINGSPEAK ----\n",
    "TS_API_WRITE_KEY = 'SFQYYW6GII6TB1W6'       # Clé d'écriture de la chaîne ThingSpeak.\n",
    "TS_FIELD_NAME = 'field1'          # Nom du champ de données.\n",
    "\n",
    "TS_WRITE_URL = 'https://api.thingspeak.com/update?api_key={0}&{1}='.format( # URL d'écriture partiel des données de la chaîne ThingSpeak.\n",
    "    TS_API_WRITE_KEY,\n",
    "    TS_FIELD_NAME\n",
    ")\n",
    "\n",
    "min = int(input('Entrez un minimum : '))    # Minimum à entrer.\n",
    "max = int(input('Entrez un maximum : '))    # Maximum à entrer.\n",
    "step = int(input('Entrez le pas : '))       # Pas de la boucle à entrer\n",
    "sleepTime = float(input('Entrez une durée de pause du programme à chaque boucle (en s): ')) #Temps de pause du programme à entrer.\n",
    "\n",
    "print('ENVOI DES DONNÉES')\n",
    "for n in range(min, max, step):   # Boucle d'envoi des données\n",
    "    url = '{0}{1}'.format(TS_WRITE_URL, n)  # URL total d'envoi des données\n",
    "    print('n = {}'.format(n))\n",
    "    urllib.request.urlopen(url) # Envoi des données\n",
    "    print('Données envoyées à : {}'.format(url))\n",
    "    sleep(sleepTime)    # Pause programme de sleepTime\n",
    "print('FIN ENVOI DES DONNÉES')"
   ]
  },
  {
   "cell_type": "code",
   "execution_count": null,
   "metadata": {},
   "outputs": [],
   "source": []
  }
 ],
 "metadata": {
  "kernelspec": {
   "display_name": "Python 3",
   "language": "python",
   "name": "python3"
  },
  "language_info": {
   "codemirror_mode": {
    "name": "ipython",
    "version": 3
   },
   "file_extension": ".py",
   "mimetype": "text/x-python",
   "name": "python",
   "nbconvert_exporter": "python",
   "pygments_lexer": "ipython3",
   "version": "3.6.8"
  }
 },
 "nbformat": 4,
 "nbformat_minor": 2
}
