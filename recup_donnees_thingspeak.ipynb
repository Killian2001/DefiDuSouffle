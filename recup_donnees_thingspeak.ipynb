{
 "cells": [
  {
   "cell_type": "markdown",
   "metadata": {},
   "source": [
    "# Récupération de données via ThingSpeak\n",
    "Le programme vu dans le [notebook sur le dictionnaire de sons](dictionnaire_son.ipynb) nécessite la récupération de données de capteur *via* le service ThingSpeak. On essaiera dans ce notebook de récupérer des données depuis ThingSpeak afin de les utiliser dans un programme Python."
   ]
  },
  {
   "cell_type": "markdown",
   "metadata": {},
   "source": [
    "## Qu'est-ce que ThingSpeak ?\n",
    "ThingSpeak est une plateforme permettant de stocker des données IoT (*Internet of Things*, &laquo;Internet des Objets&raquo;), et de proposer des outils d'analyse de données, pouvant être utilisés dans des environnements comme Matlab par exemple.\n",
    "Nous allons ici essayer de récupérer des données de ThingSpeak vers Python."
   ]
  },
  {
   "cell_type": "markdown",
   "metadata": {},
   "source": [
    "## Mise en place de l'environnement d'utilisation.\n",
    "On utilisera un channel ThingSpeak qui a déjà été créé :"
   ]
  },
  {
   "cell_type": "markdown",
   "metadata": {},
   "source": [
    "[Graphique page web](https://thingspeak.com/channels/768391/charts/1?bgcolor=%23ffffff&color=%23d62020&dynamic=true&results=60&type=line&update=15)\n",
    "\n",
    "On a inséré trois points de données, de valeur 1, 4 et 10.\n",
    "À chaque chaîne Thingspeak est associé une clé de lecture et une clé d'écriture. Comme on cherche ici à lire la chaîne Thingspeak, on utilisera la clé de lecture.\n",
    "\n",
    "L'URL de l'API Thingspeak permettant de récupérer les d'un champ de données est défini comme qui suit :"
   ]
  },
  {
   "cell_type": "raw",
   "metadata": {},
   "source": [
    "https://api.thingspeak.com/channels/768391/fields/1.json?api_key=ADAXKK2DQ0I5T9O4&results=2"
   ]
  },
  {
   "cell_type": "markdown",
   "metadata": {},
   "source": [
    "![Structure des URL de lecture de champs ThingSpeak](img/url_ts.svg)"
   ]
  },
  {
   "cell_type": "markdown",
   "metadata": {},
   "source": [
    "<center>Stucture d'un URL de lecture de champ ThingSpeak.</center>"
   ]
  },
  {
   "cell_type": "markdown",
   "metadata": {},
   "source": [
    "## Application Python\n",
    "On souhaite récupérer les données depuis le channel ThingSpeak. Pour utiliser les URL, on utilisera le module `urllib` de Python :"
   ]
  },
  {
   "cell_type": "code",
   "execution_count": 1,
   "metadata": {},
   "outputs": [],
   "source": [
    "import urllib"
   ]
  },
  {
   "cell_type": "markdown",
   "metadata": {},
   "source": [
    "On récupère ensuite les données depuis ThingSpeak, avec l'URL de lecture de champ, en utilisant la méthode `urllib.request.urlopen` :"
   ]
  },
  {
   "cell_type": "code",
   "execution_count": 2,
   "metadata": {},
   "outputs": [],
   "source": [
    "tsField = urllib.request.urlopen('https://api.thingspeak.com/channels/768391/fields/1.json?api_key=ADAXKK2DQ0I5T9O4&results=3')"
   ]
  },
  {
   "cell_type": "markdown",
   "metadata": {},
   "source": [
    "On obtient un objet `http.client.HTTPResponse`. On lit les données contenues par cet objet avec sa méthode `read` :"
   ]
  },
  {
   "cell_type": "code",
   "execution_count": 3,
   "metadata": {},
   "outputs": [],
   "source": [
    "tsRawData = tsField.read()"
   ]
  },
  {
   "cell_type": "markdown",
   "metadata": {},
   "source": [
    "La méthode `http.client.HTTPResponse.read` renvoie un objet de type `bytes`, qui correspond à une chaîne de données binaires brutes. On convertit donc ces données en chaîne de caractère avec la méthode `bytes.decode` :"
   ]
  },
  {
   "cell_type": "code",
   "execution_count": 4,
   "metadata": {},
   "outputs": [],
   "source": [
    "tsTextData = tsRawData.decode('utf-8') # On encodera en chaîne de caractères suivant l'encodage UTF-8."
   ]
  },
  {
   "cell_type": "markdown",
   "metadata": {},
   "source": [
    "On obtiendra des données sous cette forme :"
   ]
  },
  {
   "cell_type": "code",
   "execution_count": 5,
   "metadata": {},
   "outputs": [
    {
     "data": {
      "text/plain": [
       "'{\"channel\":{\"id\":768391,\"name\":\"Datatest\",\"latitude\":\"0.0\",\"longitude\":\"0.0\",\"field1\":\"Field Label 1\",\"created_at\":\"2019-04-27T15:37:44Z\",\"updated_at\":\"2019-04-27T15:37:44Z\",\"last_entry_id\":3},\"feeds\":[{\"created_at\":\"2019-04-28T15:07:49Z\",\"entry_id\":1,\"field1\":\"01\"},{\"created_at\":\"2019-04-28T15:10:03Z\",\"entry_id\":2,\"field1\":\"04\"},{\"created_at\":\"2019-04-28T15:10:39Z\",\"entry_id\":3,\"field1\":\"010\"}]}'"
      ]
     },
     "execution_count": 5,
     "metadata": {},
     "output_type": "execute_result"
    }
   ],
   "source": [
    "tsTextData"
   ]
  },
  {
   "cell_type": "markdown",
   "metadata": {},
   "source": [
    "Il s'agit de données JSON (JavaScript Object Notation), un langage de description de données utilisant la notation objet du langage Javascript. On utilisera pour exploiter ces données le module `json` :"
   ]
  },
  {
   "cell_type": "code",
   "execution_count": 6,
   "metadata": {},
   "outputs": [],
   "source": [
    "import json"
   ]
  },
  {
   "cell_type": "markdown",
   "metadata": {},
   "source": [
    "On convertit les données JSON en données Python avec la méthode `json.loads` :"
   ]
  },
  {
   "cell_type": "code",
   "execution_count": 7,
   "metadata": {},
   "outputs": [],
   "source": [
    "tsPythonData = json.loads(tsTextData)"
   ]
  },
  {
   "cell_type": "markdown",
   "metadata": {},
   "source": [
    "On obtient :"
   ]
  },
  {
   "cell_type": "code",
   "execution_count": 8,
   "metadata": {},
   "outputs": [
    {
     "data": {
      "text/plain": [
       "{'channel': {'id': 768391,\n",
       "  'name': 'Datatest',\n",
       "  'latitude': '0.0',\n",
       "  'longitude': '0.0',\n",
       "  'field1': 'Field Label 1',\n",
       "  'created_at': '2019-04-27T15:37:44Z',\n",
       "  'updated_at': '2019-04-27T15:37:44Z',\n",
       "  'last_entry_id': 3},\n",
       " 'feeds': [{'created_at': '2019-04-28T15:07:49Z',\n",
       "   'entry_id': 1,\n",
       "   'field1': '01'},\n",
       "  {'created_at': '2019-04-28T15:10:03Z', 'entry_id': 2, 'field1': '04'},\n",
       "  {'created_at': '2019-04-28T15:10:39Z', 'entry_id': 3, 'field1': '010'}]}"
      ]
     },
     "execution_count": 8,
     "metadata": {},
     "output_type": "execute_result"
    }
   ],
   "source": [
    "tsPythonData"
   ]
  },
  {
   "cell_type": "markdown",
   "metadata": {},
   "source": [
    "Les données sont donc contenues dans un dictionnaire. On remarque notamment que les données recherchées sont stockées dans des dictionnaires (clé `field1`), eux-même dans une liste, elle-même dans le dictionnaire principal.\n",
    "On récupère donc les données comme qui suit :"
   ]
  },
  {
   "cell_type": "code",
   "execution_count": 9,
   "metadata": {},
   "outputs": [
    {
     "name": "stdout",
     "output_type": "stream",
     "text": [
      "Entrée 1 | 01\n",
      "Entrée 2 | 04\n",
      "Entrée 3 | 010\n"
     ]
    }
   ],
   "source": [
    "for f in tsPythonData['feeds']:\n",
    "    print('Entrée {0} | {1}'.format(f['entry_id'], f['field1'])) # Numéro de l'entrée, valeur."
   ]
  },
  {
   "cell_type": "markdown",
   "metadata": {},
   "source": [
    "On retrouve donc bien les points de données correspondants."
   ]
  }
 ],
 "metadata": {
  "kernelspec": {
   "display_name": "Python 3",
   "language": "python",
   "name": "python3"
  },
  "language_info": {
   "codemirror_mode": {
    "name": "ipython",
    "version": 3
   },
   "file_extension": ".py",
   "mimetype": "text/x-python",
   "name": "python",
   "nbconvert_exporter": "python",
   "pygments_lexer": "ipython3",
   "version": "3.6.5"
  }
 },
 "nbformat": 4,
 "nbformat_minor": 2
}
