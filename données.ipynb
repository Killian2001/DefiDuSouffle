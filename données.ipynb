{
 "cells": [
  {
   "cell_type": "markdown",
   "metadata": {},
   "source": [
    "# Stockage de données dans un fichier externe.\n",
    "## Besoin\n",
    "Dans le cadre du projet anti-tabac du lycée, on est amené à définir un dictionnaire associant un son à jouer à une ville parcourue, représentée par un kilométrage.\n",
    "Dans le programme, on définit donc un dictionnaire affectant à un kilométrage un son.\n",
    "Ainsi, on retrouve dans le programme la définition de dictionnaire suivante :"
   ]
  },
  {
   "cell_type": "code",
   "execution_count": 1,
   "metadata": {},
   "outputs": [],
   "source": [
    "CITIES = {\n",
    "    59500: 'sounds/guingamp.wav',\n",
    "    92400: 'sounds/saintBrieuc.wav',\n",
    "    213000: 'sounds/rennes.wav'\n",
    "    # etc...\n",
    "}"
   ]
  },
  {
   "cell_type": "markdown",
   "metadata": {},
   "source": [
    "Cependant, il est possible que l'on souhaite modifier ce dictionnaire : en l'état actuel des choses, une modification manuelle du code source est nécessaire. On souhaite donc que l'utilisateur n'ait pas à modifier le code source, et on veut donc externaliser le stockage de données, dans un fichier en dehors du code source. Nous allons étudier deux solutions qui permettent de stocker des données dans un fichier externe : le JSON et le CSV."
   ]
  },
  {
   "cell_type": "markdown",
   "metadata": {},
   "source": [
    "## Préalable : lecture d'un fichier externe en Python\n",
    "La lecture d'un fichier externe en Python se fait *via* la fonction `open` de Python : elle prend en paramètre une chaîne de caractère qui contient l'emplacement du fichier sur la machine, et qui renvoie un objet de type `TextIOWrapper`.\n",
    "Cependant, il faut éviter d'utiliser la fonction seule : en effet, un plantage du programme alors que le fichier est ouvert pourrait empêcher la fermeture correcte du fichier, et poser un problème en cas de réouverture du fichier par le programme.\n",
    "Pour permettre la fermeture du fichier en cas de problème, on utilisera le mot clé `with`.\n",
    "\n",
    "Par exemple, si l'on veut ouvrir un fichier et stocker son `TextIOWrapper` dans la variable `file` on utilisera la syntaxe :\n",
    "````python\n",
    "with open('nomFichier') as file:\n",
    "    # Manipulations sur le fichier.\n",
    "````\n",
    "\n",
    "En cas d'erreur dans le nom du fichier, une exception `FileNotFoundError` sera levée.\n",
    "\n",
    "Pour lire le contenu du fichier file, on utilisera la fonction `TextIOWrapper.read`, qui renverra une chaîne de caractère.\n",
    "Enfin, on fermera le fichier avec la fonction `TextIOWrapper.close`.\n",
    "\n",
    "En application, avec le fichier `files/text.txt`:"
   ]
  },
  {
   "cell_type": "code",
   "execution_count": 2,
   "metadata": {},
   "outputs": [
    {
     "ename": "FileNotFoundError",
     "evalue": "[Errno 2] No such file or directory: 'files/text.txt'",
     "output_type": "error",
     "traceback": [
      "\u001b[0;31m---------------------------------------------------------------------------\u001b[0m",
      "\u001b[0;31mFileNotFoundError\u001b[0m                         Traceback (most recent call last)",
      "\u001b[0;32m<ipython-input-2-a0f4ded8852a>\u001b[0m in \u001b[0;36m<module>\u001b[0;34m\u001b[0m\n\u001b[0;32m----> 1\u001b[0;31m \u001b[0;32mwith\u001b[0m \u001b[0mopen\u001b[0m\u001b[0;34m(\u001b[0m\u001b[0;34m'files/text.txt'\u001b[0m\u001b[0;34m)\u001b[0m \u001b[0;32mas\u001b[0m \u001b[0mfile\u001b[0m\u001b[0;34m:\u001b[0m \u001b[0;31m# Ouverture et gestion sécurisée du fichier.\u001b[0m\u001b[0;34m\u001b[0m\u001b[0;34m\u001b[0m\u001b[0m\n\u001b[0m\u001b[1;32m      2\u001b[0m     \u001b[0mtext\u001b[0m \u001b[0;34m=\u001b[0m \u001b[0mfile\u001b[0m\u001b[0;34m.\u001b[0m\u001b[0mread\u001b[0m\u001b[0;34m(\u001b[0m\u001b[0;34m)\u001b[0m \u001b[0;31m# Lecture du fichier.\u001b[0m\u001b[0;34m\u001b[0m\u001b[0;34m\u001b[0m\u001b[0m\n\u001b[1;32m      3\u001b[0m     \u001b[0mprint\u001b[0m\u001b[0;34m(\u001b[0m\u001b[0;34m'Contenu du fichier :'\u001b[0m\u001b[0;34m,\u001b[0m \u001b[0mtext\u001b[0m\u001b[0;34m)\u001b[0m \u001b[0;31m# Affichage du contenu du fichier.\u001b[0m\u001b[0;34m\u001b[0m\u001b[0;34m\u001b[0m\u001b[0m\n\u001b[1;32m      4\u001b[0m     \u001b[0mfile\u001b[0m\u001b[0;34m.\u001b[0m\u001b[0mclose\u001b[0m\u001b[0;34m(\u001b[0m\u001b[0;34m)\u001b[0m \u001b[0;31m# Fermeture du fichier.\u001b[0m\u001b[0;34m\u001b[0m\u001b[0;34m\u001b[0m\u001b[0m\n",
      "\u001b[0;31mFileNotFoundError\u001b[0m: [Errno 2] No such file or directory: 'files/text.txt'"
     ]
    }
   ],
   "source": [
    "with open('files/text.txt') as file: # Ouverture et gestion sécurisée du fichier.\n",
    "    text = file.read() # Lecture du fichier.\n",
    "    print('Contenu du fichier :', text) # Affichage du contenu du fichier.\n",
    "    file.close() # Fermeture du fichier."
   ]
  },
  {
   "cell_type": "markdown",
   "metadata": {},
   "source": [
    "## Première solution : le JSON\n",
    "### Définition\n",
    "Le JSON (JavaScript Object Notation) est un langage de définition de données, basé sur les objets Javascript. Il permet la définition de données en les plaçant dans des blocs imbriqués les uns dans les autres.\n",
    "### Structure de base\n",
    "En premier lieu, l'ensemble des données stockées dans un fichier JSON doivent être dans un `object` : qui se définit avec des accolades, comme qui suit :"
   ]
  },
  {
   "cell_type": "raw",
   "metadata": {},
   "source": [
    "{\n",
    "    Insérez des données ici...\n",
    "}"
   ]
  },
  {
   "cell_type": "markdown",
   "metadata": {},
   "source": [
    "On doit ensuite définir les données sous forme de propriétés Javascript, en suivant le modèle suivant :"
   ]
  },
  {
   "cell_type": "raw",
   "metadata": {},
   "source": [
    "\"nomPropriété\": <valeur>,"
   ]
  },
  {
   "cell_type": "markdown",
   "metadata": {},
   "source": [
    "`\"nomPropriété\"` est obligatoirement une chaîne de caractère (entre guillemets `\"`), `<valeur>` est une valeur pouvant prendre les différents types de données Javascript (booléen, nombre, chaîne de caractère, liste, objet, null...). La virgule en fin de propriété ne doit être mise seulement s'il y a une propriété après.\n",
    "\n",
    "On a donc par exemple :"
   ]
  },
  {
   "cell_type": "raw",
   "metadata": {},
   "source": [
    "{\n",
    "    \"prop1\": 10.5,\n",
    "    \"prop2\": \"test\",\n",
    "    \"propN\": true\n",
    "}"
   ]
  },
  {
   "cell_type": "markdown",
   "metadata": {},
   "source": [
    "Il est même possible d'imbriquer des objets, ou d'utiliser des listes pour stocker plusieurs valeurs dans une seule propriété :"
   ]
  },
  {
   "cell_type": "raw",
   "metadata": {},
   "source": [
    "{\n",
    "    \"objet\": {\n",
    "        \"prop1\": 10.5,\n",
    "        \"prop2\": \"test\",\n",
    "        \"propN\": true\n",
    "    },\n",
    "    \"liste\": [\n",
    "        1,\n",
    "        2,\n",
    "        3,\n",
    "        \"a\",\n",
    "        \"b\",\n",
    "        \"c\"\n",
    "    ],\n",
    "}"
   ]
  },
  {
   "cell_type": "markdown",
   "metadata": {},
   "source": [
    "### Comment lire du JSON en Python ?\n",
    "Pour lire du JSON en Python, il existe un module de la bibliothèque standard Python nommé `json` :"
   ]
  },
  {
   "cell_type": "code",
   "execution_count": 3,
   "metadata": {},
   "outputs": [],
   "source": [
    "import json"
   ]
  },
  {
   "cell_type": "markdown",
   "metadata": {},
   "source": [
    "Pour lire du JSON en Python à partir d'une chaîne de caractère, on utilise la fonction `json.loads` qui prend en paramètre une chaîne de caractère JSON et qui renvoie un dictionnaire correspondant au contenu de la chaîne JSON :"
   ]
  },
  {
   "cell_type": "code",
   "execution_count": 4,
   "metadata": {},
   "outputs": [
    {
     "data": {
      "text/plain": [
       "{'prop1': 10.5, 'prop2': 'test', 'propN': True}"
      ]
     },
     "execution_count": 4,
     "metadata": {},
     "output_type": "execute_result"
    }
   ],
   "source": [
    "json.loads('{\"prop1\": 10.5, \"prop2\": \"test\", \"propN\": true}')"
   ]
  },
  {
   "cell_type": "markdown",
   "metadata": {},
   "source": [
    "En cas d'erreur dans le code, une exception `JSONDecodeError` est levée :"
   ]
  },
  {
   "cell_type": "code",
   "execution_count": 5,
   "metadata": {
    "scrolled": true
   },
   "outputs": [
    {
     "ename": "JSONDecodeError",
     "evalue": "Expecting property name enclosed in double quotes: line 1 column 2 (char 1)",
     "output_type": "error",
     "traceback": [
      "\u001b[0;31m---------------------------------------------------------------------------\u001b[0m",
      "\u001b[0;31mJSONDecodeError\u001b[0m                           Traceback (most recent call last)",
      "\u001b[0;32m<ipython-input-5-9e859746bc74>\u001b[0m in \u001b[0;36m<module>\u001b[0;34m\u001b[0m\n\u001b[0;32m----> 1\u001b[0;31m \u001b[0mjson\u001b[0m\u001b[0;34m.\u001b[0m\u001b[0mloads\u001b[0m\u001b[0;34m(\u001b[0m\u001b[0;34m'{Chaîne json invalide: 10.5}'\u001b[0m\u001b[0;34m)\u001b[0m\u001b[0;34m\u001b[0m\u001b[0;34m\u001b[0m\u001b[0m\n\u001b[0m",
      "\u001b[0;32m/opt/tljh/user/lib/python3.6/json/__init__.py\u001b[0m in \u001b[0;36mloads\u001b[0;34m(s, encoding, cls, object_hook, parse_float, parse_int, parse_constant, object_pairs_hook, **kw)\u001b[0m\n\u001b[1;32m    352\u001b[0m             \u001b[0mparse_int\u001b[0m \u001b[0;32mis\u001b[0m \u001b[0;32mNone\u001b[0m \u001b[0;32mand\u001b[0m \u001b[0mparse_float\u001b[0m \u001b[0;32mis\u001b[0m \u001b[0;32mNone\u001b[0m \u001b[0;32mand\u001b[0m\u001b[0;34m\u001b[0m\u001b[0;34m\u001b[0m\u001b[0m\n\u001b[1;32m    353\u001b[0m             parse_constant is None and object_pairs_hook is None and not kw):\n\u001b[0;32m--> 354\u001b[0;31m         \u001b[0;32mreturn\u001b[0m \u001b[0m_default_decoder\u001b[0m\u001b[0;34m.\u001b[0m\u001b[0mdecode\u001b[0m\u001b[0;34m(\u001b[0m\u001b[0ms\u001b[0m\u001b[0;34m)\u001b[0m\u001b[0;34m\u001b[0m\u001b[0;34m\u001b[0m\u001b[0m\n\u001b[0m\u001b[1;32m    355\u001b[0m     \u001b[0;32mif\u001b[0m \u001b[0mcls\u001b[0m \u001b[0;32mis\u001b[0m \u001b[0;32mNone\u001b[0m\u001b[0;34m:\u001b[0m\u001b[0;34m\u001b[0m\u001b[0;34m\u001b[0m\u001b[0m\n\u001b[1;32m    356\u001b[0m         \u001b[0mcls\u001b[0m \u001b[0;34m=\u001b[0m \u001b[0mJSONDecoder\u001b[0m\u001b[0;34m\u001b[0m\u001b[0;34m\u001b[0m\u001b[0m\n",
      "\u001b[0;32m/opt/tljh/user/lib/python3.6/json/decoder.py\u001b[0m in \u001b[0;36mdecode\u001b[0;34m(self, s, _w)\u001b[0m\n\u001b[1;32m    337\u001b[0m \u001b[0;34m\u001b[0m\u001b[0m\n\u001b[1;32m    338\u001b[0m         \"\"\"\n\u001b[0;32m--> 339\u001b[0;31m         \u001b[0mobj\u001b[0m\u001b[0;34m,\u001b[0m \u001b[0mend\u001b[0m \u001b[0;34m=\u001b[0m \u001b[0mself\u001b[0m\u001b[0;34m.\u001b[0m\u001b[0mraw_decode\u001b[0m\u001b[0;34m(\u001b[0m\u001b[0ms\u001b[0m\u001b[0;34m,\u001b[0m \u001b[0midx\u001b[0m\u001b[0;34m=\u001b[0m\u001b[0m_w\u001b[0m\u001b[0;34m(\u001b[0m\u001b[0ms\u001b[0m\u001b[0;34m,\u001b[0m \u001b[0;36m0\u001b[0m\u001b[0;34m)\u001b[0m\u001b[0;34m.\u001b[0m\u001b[0mend\u001b[0m\u001b[0;34m(\u001b[0m\u001b[0;34m)\u001b[0m\u001b[0;34m)\u001b[0m\u001b[0;34m\u001b[0m\u001b[0;34m\u001b[0m\u001b[0m\n\u001b[0m\u001b[1;32m    340\u001b[0m         \u001b[0mend\u001b[0m \u001b[0;34m=\u001b[0m \u001b[0m_w\u001b[0m\u001b[0;34m(\u001b[0m\u001b[0ms\u001b[0m\u001b[0;34m,\u001b[0m \u001b[0mend\u001b[0m\u001b[0;34m)\u001b[0m\u001b[0;34m.\u001b[0m\u001b[0mend\u001b[0m\u001b[0;34m(\u001b[0m\u001b[0;34m)\u001b[0m\u001b[0;34m\u001b[0m\u001b[0;34m\u001b[0m\u001b[0m\n\u001b[1;32m    341\u001b[0m         \u001b[0;32mif\u001b[0m \u001b[0mend\u001b[0m \u001b[0;34m!=\u001b[0m \u001b[0mlen\u001b[0m\u001b[0;34m(\u001b[0m\u001b[0ms\u001b[0m\u001b[0;34m)\u001b[0m\u001b[0;34m:\u001b[0m\u001b[0;34m\u001b[0m\u001b[0;34m\u001b[0m\u001b[0m\n",
      "\u001b[0;32m/opt/tljh/user/lib/python3.6/json/decoder.py\u001b[0m in \u001b[0;36mraw_decode\u001b[0;34m(self, s, idx)\u001b[0m\n\u001b[1;32m    353\u001b[0m         \"\"\"\n\u001b[1;32m    354\u001b[0m         \u001b[0;32mtry\u001b[0m\u001b[0;34m:\u001b[0m\u001b[0;34m\u001b[0m\u001b[0;34m\u001b[0m\u001b[0m\n\u001b[0;32m--> 355\u001b[0;31m             \u001b[0mobj\u001b[0m\u001b[0;34m,\u001b[0m \u001b[0mend\u001b[0m \u001b[0;34m=\u001b[0m \u001b[0mself\u001b[0m\u001b[0;34m.\u001b[0m\u001b[0mscan_once\u001b[0m\u001b[0;34m(\u001b[0m\u001b[0ms\u001b[0m\u001b[0;34m,\u001b[0m \u001b[0midx\u001b[0m\u001b[0;34m)\u001b[0m\u001b[0;34m\u001b[0m\u001b[0;34m\u001b[0m\u001b[0m\n\u001b[0m\u001b[1;32m    356\u001b[0m         \u001b[0;32mexcept\u001b[0m \u001b[0mStopIteration\u001b[0m \u001b[0;32mas\u001b[0m \u001b[0merr\u001b[0m\u001b[0;34m:\u001b[0m\u001b[0;34m\u001b[0m\u001b[0;34m\u001b[0m\u001b[0m\n\u001b[1;32m    357\u001b[0m             \u001b[0;32mraise\u001b[0m \u001b[0mJSONDecodeError\u001b[0m\u001b[0;34m(\u001b[0m\u001b[0;34m\"Expecting value\"\u001b[0m\u001b[0;34m,\u001b[0m \u001b[0ms\u001b[0m\u001b[0;34m,\u001b[0m \u001b[0merr\u001b[0m\u001b[0;34m.\u001b[0m\u001b[0mvalue\u001b[0m\u001b[0;34m)\u001b[0m \u001b[0;32mfrom\u001b[0m \u001b[0;32mNone\u001b[0m\u001b[0;34m\u001b[0m\u001b[0;34m\u001b[0m\u001b[0m\n",
      "\u001b[0;31mJSONDecodeError\u001b[0m: Expecting property name enclosed in double quotes: line 1 column 2 (char 1)"
     ]
    }
   ],
   "source": [
    "json.loads('{Chaîne json invalide: 10.5}')"
   ]
  },
  {
   "cell_type": "markdown",
   "metadata": {},
   "source": [
    "Pour lire depuis un fichier extérieur, on applique la méthode précédemment vue :"
   ]
  },
  {
   "cell_type": "code",
   "execution_count": 6,
   "metadata": {},
   "outputs": [
    {
     "name": "stdout",
     "output_type": "stream",
     "text": [
      "Données :\n",
      "{'prop1': 10.5, 'prop2': 'test', 'propN': True}\n"
     ]
    }
   ],
   "source": [
    "with open('files/test.json') as jsonFile: # Ouverture fichier.\n",
    "    fileContent = jsonFile.read() # Lecture fichier.\n",
    "    datas = json.loads(fileContent) # Lecture JSON.\n",
    "    print('Données :\\n{}'.format(datas)) # Affichage dictionnaire issu du JSON.\n",
    "    jsonFile.close() # Fermeture fichier."
   ]
  },
  {
   "cell_type": "markdown",
   "metadata": {},
   "source": [
    "### Application au projet\n",
    "On peut stocker les données du dictionnaire suivant une syntaxe JSON. On peut, à partir du dictionnaire au début du notebook, noter :"
   ]
  },
  {
   "cell_type": "raw",
   "metadata": {},
   "source": [
    "{\n",
    "    \"59500\": \"sounds/guingamp.wav\",\n",
    "    \"92400\": \"sounds/saintBrieuc.wav\",\n",
    "    \"213000\": \"sounds/rennes.wav\"\n",
    "}"
   ]
  },
  {
   "cell_type": "markdown",
   "metadata": {},
   "source": [
    "On stockera les données dans le fichier [`files/dict.json`](files/dict.json).\n",
    "On stockera le dictionnaire obtenu après lecture du fichier dans une variable `jsonData`."
   ]
  },
  {
   "cell_type": "code",
   "execution_count": 7,
   "metadata": {},
   "outputs": [],
   "source": [
    "jsonData = None"
   ]
  },
  {
   "cell_type": "markdown",
   "metadata": {},
   "source": [
    "On lit tout d'abord le fichier :"
   ]
  },
  {
   "cell_type": "code",
   "execution_count": 8,
   "metadata": {},
   "outputs": [],
   "source": [
    "with open('files/dict.json') as file:\n",
    "    jsonData = json.loads(file.read()) # Lecture des données JSON du fichier.\n",
    "    file.close()"
   ]
  },
  {
   "cell_type": "markdown",
   "metadata": {},
   "source": [
    "On obtient donc :"
   ]
  },
  {
   "cell_type": "code",
   "execution_count": 9,
   "metadata": {},
   "outputs": [
    {
     "data": {
      "text/plain": [
       "{'59500': 'sounds/guingamp.wav',\n",
       " '92400': 'sounds/saintBrieuc.wav',\n",
       " '213000': 'sounds/rennes.wav'}"
      ]
     },
     "execution_count": 9,
     "metadata": {},
     "output_type": "execute_result"
    }
   ],
   "source": [
    "jsonData"
   ]
  },
  {
   "cell_type": "markdown",
   "metadata": {},
   "source": [
    "On remarque que les distance sont de type `str` (chaîne de caractère), alors que les distance du dictionnaire prévu de base sont de type `float`.\n",
    "Pour résoudre le problème, on a deux possibilités :\n",
    "1. Utiliser le dictionnaire récupéré depuis le fichier JSON comme dictionnaire du programme, puis convertir la distance récupérée depuis ThingSpeak (type `float`) en chaîne de caractère (type `str`) avec la méthode `str`. On définirait donc le dictionnaire du programme par : \n",
    "````python\n",
    "CITIES = jsonData\n",
    "````\n",
    "2. Convertir les distances du dictionnaire JSON du type `str` au type `float`, avec la méthode `float`. Il faudrait alors lire les clés du dictionnaire jsonData, les convertir en `float` et ajouter la valeur correspondante à la clé convertie en `float` sur le dictionnaire `CITIES`, on aura donc :\n",
    "````python\n",
    "for k in jsonData.keys(): # On parcourt une à une les clés du dictionnaire jsonData.\n",
    "        CITIES[float(k)] = jsonData[k] # On convertit la clé en float pour le dictionnaire CITIES, et on attribue la valeur de jsonData correspondante.\n",
    "````"
   ]
  },
  {
   "cell_type": "markdown",
   "metadata": {},
   "source": [
    "## Deuxième solution : le CSV\n",
    "Le format JSON, bien qu'apprécié, nécessite cependant des connaissances de base en programmation et en description de données. On souhaite faciliter l'entrée de données, et utiliser éventuellement un tableur, qui est un outil plus intuitif. Or les tableurs ne peuvent pas exporter de données JSON, à moins d'installer une extension. Ils peuvent cependant exporter sous un autre format de données textuel, le CSV.\n",
    "### Qu'est-ce que le CSV ?\n",
    "CSV signifie &laquo;*Comma-separated values*&raquo;. Il s'agit d'un format libre de description de données. Moins utilisé, il est cependant disponible à l'enregistrement/exportation dans de nombreux tableurs.\n",
    "\n",
    "![Options d'exportation en CSV dans différents tableurs](img/tableurs_csv.png)"
   ]
  },
  {
   "cell_type": "markdown",
   "metadata": {},
   "source": [
    "Le CSV permet de définir des séries de listes de données, à partir de données rentrées sur tableur. Dans la syntaxe originale, une rangée de tableur contenant les valeurs &laquo;a&raquo;, &laquo;b&raquo;, &laquo;c&raquo; sera notée :"
   ]
  },
  {
   "cell_type": "raw",
   "metadata": {},
   "source": [
    "a,b,c"
   ]
  },
  {
   "cell_type": "markdown",
   "metadata": {},
   "source": [
    "Si on rajoute une rangée avec les valeurs 10.5, 58, &laquo;test2&raquo;, on a :"
   ]
  },
  {
   "cell_type": "raw",
   "metadata": {},
   "source": [
    "a,b,c\n",
    "10.5,58,test2"
   ]
  },
  {
   "cell_type": "markdown",
   "metadata": {},
   "source": [
    "On peut avoir, suivant les configurations d'exportation, des séparateurs pour repérer les chaînes de caractères, comme des guillemets `\"`, on a donc :"
   ]
  },
  {
   "cell_type": "raw",
   "metadata": {},
   "source": [
    "\"a\",\"b\",\"c\"\n",
    "10.5,58,\"test2\""
   ]
  },
  {
   "cell_type": "markdown",
   "metadata": {},
   "source": [
    "#### Norme française\n",
    "Le CSV, contrairement au JSON, n'est pas régit par une norme internationale, il peut donc y avoir des variations.\n",
    "La plus notable concerne la notation des décimales : en notation anglaise, on écrira par exemple `1.5`, alors qu'en notation française, on écrira `1,5`.\n",
    "Cette variation est visible dans les tableurs, ainsi, en France, on utilisera sur un tableur la virgule `,`. Cela a pour conséquence de modifier les séparateurs CSV : pour éviter la confusion entre les décimales et les séparations de valeurs, on utilisera le séparateur point-virgule `;` en France :"
   ]
  },
  {
   "cell_type": "raw",
   "metadata": {},
   "source": [
    "a;b;c\n",
    "10,5;58;test2"
   ]
  },
  {
   "cell_type": "markdown",
   "metadata": {},
   "source": [
    "### Comment lire du CSV en Python ?\n",
    "Le CSV peut être lu en Python avec le module `csv` de la bibliothèque standard :"
   ]
  },
  {
   "cell_type": "code",
   "execution_count": 10,
   "metadata": {},
   "outputs": [],
   "source": [
    "import csv"
   ]
  },
  {
   "cell_type": "markdown",
   "metadata": {},
   "source": [
    "On prendra ici l'exemple de la feuille de calcul suivante :\n",
    "![Feuille de calcul](img/excel.png)\n",
    "On a donc en CSV, dans le fichier [`files/test.csv`](files/test.csv) :"
   ]
  },
  {
   "cell_type": "raw",
   "metadata": {},
   "source": [
    "prop1;10,5\n",
    "prop2;test\n",
    "propN;true"
   ]
  },
  {
   "cell_type": "markdown",
   "metadata": {},
   "source": [
    "On indique d'abord, dans des variables, quels séparateurs on utilise :"
   ]
  },
  {
   "cell_type": "code",
   "execution_count": 11,
   "metadata": {},
   "outputs": [],
   "source": [
    "VAL_SEPARATOR = ';' # Séparateur entre les valeurs.\n",
    "IS_QUOTING_ENABLED = False # Y a-t-il des chaînes de caractères ?\n",
    "STR_SEPARATOR = '' # Séparateur de chaîne de caractère."
   ]
  },
  {
   "cell_type": "markdown",
   "metadata": {},
   "source": [
    "Pour permettre la lecture on doit tout d'abord ouvrir le fichier, que l'on stockera dans une variable `csvFile`. On utilisera ensuite la fonction `csv.reader`, qui prend en paramètre le fichier ainsi que les séparateurs utilisés.\n",
    "S'il y a des chaînes de caractères, on donne le séparateur de chaîne de caractère, sinon on ne le définit pas.\n",
    "````python\n",
    "csvRawData = csv.reader(\n",
    "    csvFile, \n",
    "    delimiter=VAL_SEPARATOR, \n",
    "    quotechar=STR_SEPARATOR if IS_QUOTING_ENABLED else None\n",
    ")\n",
    "````\n",
    "La valeur de retour de `csv.reader` est un objet de type `_csv.reader` : pour faciliter son exploitation, on le convertit en liste :\n",
    "````python\n",
    "csvData = list(csvRawData)\n",
    "````\n",
    "On a donc :"
   ]
  },
  {
   "cell_type": "code",
   "execution_count": 12,
   "metadata": {},
   "outputs": [],
   "source": [
    "csvData = None\n",
    "with open('files/test.csv') as csvFile: # Ouverture fichier\n",
    "    csvRawData = csv.reader(\n",
    "        csvFile, \n",
    "        delimiter=VAL_SEPARATOR, \n",
    "        quotechar=STR_SEPARATOR if IS_QUOTING_ENABLED else None # Modification du caractère de séparation des chaînes si il y a des chaînes.\n",
    "    ) # Lecture données CSV\n",
    "    csvData = list(csvRawData) # Conversion en liste\n",
    "    csvFile.close() # Fermeture du fichier."
   ]
  },
  {
   "cell_type": "markdown",
   "metadata": {},
   "source": [
    "On obtient la liste suivante :"
   ]
  },
  {
   "cell_type": "code",
   "execution_count": 13,
   "metadata": {},
   "outputs": [
    {
     "data": {
      "text/plain": [
       "[['prop1', '10,5', ''], ['prop2', 'test'], ['propN', 'true']]"
      ]
     },
     "execution_count": 13,
     "metadata": {},
     "output_type": "execute_result"
    }
   ],
   "source": [
    "csvData"
   ]
  },
  {
   "cell_type": "markdown",
   "metadata": {},
   "source": [
    "On la parcourt et on affiche les valeurs :"
   ]
  },
  {
   "cell_type": "code",
   "execution_count": 14,
   "metadata": {},
   "outputs": [
    {
     "name": "stdout",
     "output_type": "stream",
     "text": [
      "prop1 10,5  \n",
      "\n",
      "prop2 test \n",
      "\n",
      "propN true \n",
      "\n"
     ]
    }
   ],
   "source": [
    "for c in csvData: # Rangées\n",
    "    for c1 in c: # Colonnes\n",
    "        print(c1, end=' ')\n",
    "    print('\\n') # Retour à la ligne."
   ]
  },
  {
   "cell_type": "markdown",
   "metadata": {},
   "source": [
    "### Application au projet"
   ]
  },
  {
   "cell_type": "markdown",
   "metadata": {},
   "source": [
    "On peut définir les données du dictionnaire sur tableur comme qui suit :\n",
    "![Feuille de calcul dictionnaire](img/excel_dico.png)\n",
    "\n",
    "Après exportation en CSV, on obtient le fichier [`files/dico.csv`](files/dico.csv), ayant le contenu suivant :"
   ]
  },
  {
   "cell_type": "raw",
   "metadata": {},
   "source": [
    "59500,0;sounds/guingamp.wav\n",
    "92400,0;sounds/saintBrieuc.wav\n",
    "213000,0;sounds/rennes.wav"
   ]
  },
  {
   "cell_type": "markdown",
   "metadata": {},
   "source": [
    "On utilisera les mêmes séparateurs que dans les exemples précédents :\n",
    "````python\n",
    "VAL_SEPARATOR = ';'\n",
    "IS_QUOTING_ENABLED = False\n",
    "STR_SEPARATOR = ''\n",
    "````"
   ]
  },
  {
   "cell_type": "markdown",
   "metadata": {},
   "source": [
    "On récupère les données du fichier :"
   ]
  },
  {
   "cell_type": "code",
   "execution_count": 15,
   "metadata": {},
   "outputs": [],
   "source": [
    "csvData = None\n",
    "with open('files/dico.csv') as csvFile: # Ouverture fichier\n",
    "    csvRawData = csv.reader(\n",
    "        csvFile, \n",
    "        delimiter=VAL_SEPARATOR, \n",
    "        quotechar=STR_SEPARATOR if IS_QUOTING_ENABLED else None # Modification du caractère de séparation des chaînes si il y a des chaînes.\n",
    "    ) # Lecture données CSV\n",
    "    csvData = list(csvRawData) # Conversion en liste\n",
    "    csvFile.close() # Fermeture du fichier."
   ]
  },
  {
   "cell_type": "markdown",
   "metadata": {},
   "source": [
    "On obtient la liste suivante :"
   ]
  },
  {
   "cell_type": "code",
   "execution_count": 16,
   "metadata": {},
   "outputs": [
    {
     "data": {
      "text/plain": [
       "[['59500,0', 'sounds/guingamp.wav'],\n",
       " ['92400,0', 'sounds/saintBrieuc.wav'],\n",
       " ['213000,0', 'sounds/rennes.wav']]"
      ]
     },
     "execution_count": 16,
     "metadata": {},
     "output_type": "execute_result"
    }
   ],
   "source": [
    "csvData"
   ]
  },
  {
   "cell_type": "markdown",
   "metadata": {},
   "source": [
    "On remarque, parce que les valeurs ont été entrées sur un tableur configuré en saisie française, que les valeurs décimales possèdent une virgule `,` au lieu d'un point `.` : on risque de se retrouver, lors d'une conversion en nombre, avec une `ValueError`, ou bien d'avoir des problèmes de comparaisons. "
   ]
  },
  {
   "cell_type": "code",
   "execution_count": 17,
   "metadata": {},
   "outputs": [
    {
     "ename": "ValueError",
     "evalue": "could not convert string to float: '59500,0'",
     "output_type": "error",
     "traceback": [
      "\u001b[0;31m---------------------------------------------------------------------------\u001b[0m",
      "\u001b[0;31mValueError\u001b[0m                                Traceback (most recent call last)",
      "\u001b[0;32m<ipython-input-17-bebed0484f66>\u001b[0m in \u001b[0;36m<module>\u001b[0;34m\u001b[0m\n\u001b[0;32m----> 1\u001b[0;31m \u001b[0mfloat\u001b[0m\u001b[0;34m(\u001b[0m\u001b[0;34m'59500,0'\u001b[0m\u001b[0;34m)\u001b[0m\u001b[0;34m\u001b[0m\u001b[0;34m\u001b[0m\u001b[0m\n\u001b[0m",
      "\u001b[0;31mValueError\u001b[0m: could not convert string to float: '59500,0'"
     ]
    }
   ],
   "source": [
    "float('59500,0')"
   ]
  },
  {
   "cell_type": "markdown",
   "metadata": {},
   "source": [
    "On doit donc remplacer la virgule `,` en un point `.`.\n",
    "On utilisera la fonction `str.replace`, qui permet de remplacer une chaîne par un autre chaîne dans la chaîne sur laquelle elle est appelée: elle prendra en paramètre la chaîne à changer (type `str`) et la chaîne remplacante (type `str`), et renverra la chaîne ainsi traitée.\n",
    "\n",
    "On parcourt donc la liste, et on change l'élément d'index 0 de chaque entrée de donnée (la distance), afin d'obtenir des nombres valides :"
   ]
  },
  {
   "cell_type": "code",
   "execution_count": 18,
   "metadata": {},
   "outputs": [],
   "source": [
    "for i in csvData: # On parcourt les éléments de csvData\n",
    "    i[0] = i[0].replace(',', '.') # On remplace les virgules par des points."
   ]
  },
  {
   "cell_type": "markdown",
   "metadata": {},
   "source": [
    "On obtient :"
   ]
  },
  {
   "cell_type": "code",
   "execution_count": 19,
   "metadata": {},
   "outputs": [
    {
     "data": {
      "text/plain": [
       "[['59500.0', 'sounds/guingamp.wav'],\n",
       " ['92400.0', 'sounds/saintBrieuc.wav'],\n",
       " ['213000.0', 'sounds/rennes.wav']]"
      ]
     },
     "execution_count": 19,
     "metadata": {},
     "output_type": "execute_result"
    }
   ],
   "source": [
    "csvData"
   ]
  },
  {
   "cell_type": "markdown",
   "metadata": {},
   "source": [
    "Par la suite on a, comme dans le cas du JSON, la possiblité de convertir les valeurs de distance obtenues *via* ThingSpeak grâce à la fonction `str`, ou de convertir les valeurs de `csvData` en nombre avec la fonction `float`. Dans les deux cas, le dictionnaire devra être construit en parcourant la liste `csvData` :\n",
    "\n",
    "**Premier cas :**"
   ]
  },
  {
   "cell_type": "code",
   "execution_count": 20,
   "metadata": {},
   "outputs": [],
   "source": [
    "CITIES = {} # Réinitialisation dictionnaire\n",
    "for c in csvData: # On parcourt csvData.\n",
    "    CITIES[c[0]] = c[1] # On associe c[1] (son à jouer) à c[0] distance parcourue."
   ]
  },
  {
   "cell_type": "markdown",
   "metadata": {},
   "source": [
    "On obtient :"
   ]
  },
  {
   "cell_type": "code",
   "execution_count": 21,
   "metadata": {},
   "outputs": [
    {
     "data": {
      "text/plain": [
       "{'59500.0': 'sounds/guingamp.wav',\n",
       " '92400.0': 'sounds/saintBrieuc.wav',\n",
       " '213000.0': 'sounds/rennes.wav'}"
      ]
     },
     "execution_count": 21,
     "metadata": {},
     "output_type": "execute_result"
    }
   ],
   "source": [
    "CITIES"
   ]
  },
  {
   "cell_type": "markdown",
   "metadata": {},
   "source": [
    "**Deuxième cas :**"
   ]
  },
  {
   "cell_type": "code",
   "execution_count": 22,
   "metadata": {},
   "outputs": [],
   "source": [
    "CITIES = {} # Réinitialisation dictionnaire\n",
    "for c in csvData:\n",
    "    CITIES[float(c[0])] = c[1] # Même procédure, mais on convertit en float c[0]."
   ]
  },
  {
   "cell_type": "markdown",
   "metadata": {},
   "source": [
    "On obtient :"
   ]
  },
  {
   "cell_type": "code",
   "execution_count": 23,
   "metadata": {},
   "outputs": [
    {
     "data": {
      "text/plain": [
       "{59500.0: 'sounds/guingamp.wav',\n",
       " 92400.0: 'sounds/saintBrieuc.wav',\n",
       " 213000.0: 'sounds/rennes.wav'}"
      ]
     },
     "execution_count": 23,
     "metadata": {},
     "output_type": "execute_result"
    }
   ],
   "source": [
    "CITIES"
   ]
  }
 ],
 "metadata": {
  "kernelspec": {
   "display_name": "Python 3",
   "language": "python",
   "name": "python3"
  },
  "language_info": {
   "codemirror_mode": {
    "name": "ipython",
    "version": 3
   },
   "file_extension": ".py",
   "mimetype": "text/x-python",
   "name": "python",
   "nbconvert_exporter": "python",
   "pygments_lexer": "ipython3",
   "version": "3.6.8"
  }
 },
 "nbformat": 4,
 "nbformat_minor": 2
}
