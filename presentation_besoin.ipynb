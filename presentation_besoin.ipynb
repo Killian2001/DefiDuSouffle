{
 "cells": [
  {
   "cell_type": "markdown",
   "metadata": {},
   "source": [
    "# Le Défi du Souffle - Présentation\n",
    "## Qu'est-ce que le Défi du Souffle ?\n",
    "Le Défi du Souffle est une initiative qui a été lancée au sein du lycée dans le cadre de la journée anti-tabac du lycée, réalisée en partenariat avec La Ligue contre le Cancer.\n",
    "\n",
    "Ce défi consiste à installer dans l'atrium du lycée des machines de sport, tels que des vélos ou des rameurs, et à les utiliser pour pédaler (ou ramer) sur une distance équivalente à un Morlaix-Paris, jusqu'aux Champs-Élysées.\n",
    "## Quelle est la participation des Terminales ISN dans le projet ?\n",
    "On souhaite proposer un ensemble de solutions permettant d'agrémenter le défi du souffle, à savoir :\n",
    "* **Mesure de la distance parcourue avec des capteurs** : travailler sur des moyens permettant de mesurer la distance avec l'aide de capteurs.\n",
    "* **Communication entre les capteurs, récupération des données capteur** : mettre en œuvre des solutions permettant aux capteurs de communiquer entre eux et de récupérer leurs informations depuis un ordinateur.\n",
    "* **Localisation sur une carte** : mettre en place des solutions permettant, à partir d'un itinéraire donné et de la distance parcourue, de localiser la position fictive des lycéens qui pédalent sur une carte.\n",
    "* **Incrustation sur fond vert des personnes qui pédalent** : il est prévu, au niveau de l'arrivée à Paris, de filmer les lycéens qui pédalent et de les incruster sur un fond vert. Il s'agit donc de mettre en place une solution de traitement de l'image, permettant d'effectuer cette incrustation.\n",
    "* **Jeu d'un son au passage de chaque ville** : mettre en place une solution, qui, grâce à la distance mesurée, permette de savoir si des grandes villes sont passées et qui joue un son au passage des dites villes."
   ]
  },
  {
   "cell_type": "markdown",
   "metadata": {},
   "source": [
    "## Jouer un son au passage de chaque ville.\n",
    "\n",
    "Lorsque l'on arrivera dans une ville, un son devra être joué, indiquant ainsi que l'on a passé la ville en question.\n",
    "Le programme devra fonctionner sur un ordinateur, connecté à des enceintes.\n",
    "Il faudra donc, pour faire fonctionner ce programme :\n",
    "* Récupérer les données de distance des capteurs.\n",
    "* Trouver un moyen de lier, dans le programme, distance récupérée et sons.\n",
    "* Jouer le son correspondant."
   ]
  },
  {
   "cell_type": "code",
   "execution_count": null,
   "metadata": {},
   "outputs": [],
   "source": []
  }
 ],
 "metadata": {
  "kernelspec": {
   "display_name": "Python 3",
   "language": "python",
   "name": "python3"
  },
  "language_info": {
   "codemirror_mode": {
    "name": "ipython",
    "version": 3
   },
   "file_extension": ".py",
   "mimetype": "text/x-python",
   "name": "python",
   "nbconvert_exporter": "python",
   "pygments_lexer": "ipython3",
   "version": "3.6.8"
  }
 },
 "nbformat": 4,
 "nbformat_minor": 2
}
